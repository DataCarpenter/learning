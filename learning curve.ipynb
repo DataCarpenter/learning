{
 "cells": [
  {
   "cell_type": "markdown",
   "metadata": {},
   "source": [
    "# Learning curve"
   ]
  },
  {
   "cell_type": "markdown",
   "metadata": {},
   "source": [
    "Have you seen a learning curve? \n",
    "We all know that they are out there, and we conduct our work knowing how important to have enough data to match the complexity of our models. Also, we know, that in the battle agains overfitting its a good sign it the in-sample error, and out-sample error  is more-or less the same. \n",
    "\n",
    "But personally i havent seen a learning curve. \n",
    "Practically in most of the cases, we just throw as many data point into the model as we have / as the computing capacity can hold.\n",
    "\n",
    "Of course, I've came across many mock-up learning curves, during my courses.\n",
    "\n",
    "One of the most authentic is of course  drawn by Andrew Ng: "
   ]
  },
  {
   "cell_type": "code",
   "execution_count": 16,
   "metadata": {},
   "outputs": [
    {
     "data": {
      "image/jpeg": "[encoded data removed]",
      "text/html": [
       "\n",
       "        <iframe\n",
       "            width=\"500\"\n",
       "            height=\"300\"\n",
       "            src=\"https://www.youtube.com/embed/ISBGFY-gBug?start=213\"\n",
       "            frameborder=\"0\"\n",
       "            allowfullscreen\n",
       "        ></iframe>\n",
       "        "
      ],
      "text/plain": [
       "<IPython.lib.display.YouTubeVideo at 0x7fa6a04fb2b0>"
      ]
     },
     "execution_count": 16,
     "metadata": {},
     "output_type": "execute_result"
    }
   ],
   "source": [
    "from IPython.display import YouTubeVideo\n",
    "\n",
    "YouTubeVideo('ISBGFY-gBug',width=500, start=213 )"
   ]
  },
  {
   "cell_type": "code",
   "execution_count": null,
   "metadata": {
    "collapsed": true
   },
   "outputs": [],
   "source": [
    "[![IMAGE ALT TEXT HERE](https://img.youtube.com/vi/ISBGFY-gBug/0.jpg)](https://www.youtube.com/watch?v=ISBGFY-gBug)"
   ]
  },
  {
   "cell_type": "markdown",
   "metadata": {
    "collapsed": true
   },
   "source": [
    "Lets now change this and actually create a learning curve!  \n",
    "I will use  the  [diamond dataset from kaggle](https://www.kaggle.com/shivam2503/diamonds/dat)\n",
    "and a simple out-of-the-box linear regression as a model.  \n",
    "No preprocessing or model-specification was made, I've only dealt with the categorical variables, by creating the dummy-colums for them. \n"
   ]
  },
  {
   "cell_type": "code",
   "execution_count": 31,
   "metadata": {
    "collapsed": true
   },
   "outputs": [],
   "source": [
    "import pandas as pd\n",
    "from sklearn.linear_model import LinearRegression\n",
    "from sklearn.metrics import mean_squared_error, r2_score\n",
    "from sklearn.model_selection import train_test_split\n",
    "from matplotlib import pyplot as plt\n",
    "import random\n",
    "random.seed(100)"
   ]
  },
  {
   "cell_type": "code",
   "execution_count": 32,
   "metadata": {},
   "outputs": [
    {
     "name": "stdout",
     "output_type": "stream",
     "text": [
      "(53940, 10)\n"
     ]
    },
    {
     "data": {
      "text/html": [
       "<div>\n",
       "<style>\n",
       "    .dataframe thead tr:only-child th {\n",
       "        text-align: right;\n",
       "    }\n",
       "\n",
       "    .dataframe thead th {\n",
       "        text-align: left;\n",
       "    }\n",
       "\n",
       "    .dataframe tbody tr th {\n",
       "        vertical-align: top;\n",
       "    }\n",
       "</style>\n",
       "<table border=\"1\" class=\"dataframe\">\n",
       "  <thead>\n",
       "    <tr style=\"text-align: right;\">\n",
       "      <th></th>\n",
       "      <th>carat</th>\n",
       "      <th>cut</th>\n",
       "      <th>color</th>\n",
       "      <th>clarity</th>\n",
       "      <th>depth</th>\n",
       "      <th>table</th>\n",
       "      <th>price</th>\n",
       "      <th>x</th>\n",
       "      <th>y</th>\n",
       "      <th>z</th>\n",
       "    </tr>\n",
       "  </thead>\n",
       "  <tbody>\n",
       "    <tr>\n",
       "      <th>1</th>\n",
       "      <td>0.23</td>\n",
       "      <td>Ideal</td>\n",
       "      <td>E</td>\n",
       "      <td>SI2</td>\n",
       "      <td>61.5</td>\n",
       "      <td>55.0</td>\n",
       "      <td>326</td>\n",
       "      <td>3.95</td>\n",
       "      <td>3.98</td>\n",
       "      <td>2.43</td>\n",
       "    </tr>\n",
       "    <tr>\n",
       "      <th>2</th>\n",
       "      <td>0.21</td>\n",
       "      <td>Premium</td>\n",
       "      <td>E</td>\n",
       "      <td>SI1</td>\n",
       "      <td>59.8</td>\n",
       "      <td>61.0</td>\n",
       "      <td>326</td>\n",
       "      <td>3.89</td>\n",
       "      <td>3.84</td>\n",
       "      <td>2.31</td>\n",
       "    </tr>\n",
       "    <tr>\n",
       "      <th>3</th>\n",
       "      <td>0.23</td>\n",
       "      <td>Good</td>\n",
       "      <td>E</td>\n",
       "      <td>VS1</td>\n",
       "      <td>56.9</td>\n",
       "      <td>65.0</td>\n",
       "      <td>327</td>\n",
       "      <td>4.05</td>\n",
       "      <td>4.07</td>\n",
       "      <td>2.31</td>\n",
       "    </tr>\n",
       "    <tr>\n",
       "      <th>4</th>\n",
       "      <td>0.29</td>\n",
       "      <td>Premium</td>\n",
       "      <td>I</td>\n",
       "      <td>VS2</td>\n",
       "      <td>62.4</td>\n",
       "      <td>58.0</td>\n",
       "      <td>334</td>\n",
       "      <td>4.20</td>\n",
       "      <td>4.23</td>\n",
       "      <td>2.63</td>\n",
       "    </tr>\n",
       "    <tr>\n",
       "      <th>5</th>\n",
       "      <td>0.31</td>\n",
       "      <td>Good</td>\n",
       "      <td>J</td>\n",
       "      <td>SI2</td>\n",
       "      <td>63.3</td>\n",
       "      <td>58.0</td>\n",
       "      <td>335</td>\n",
       "      <td>4.34</td>\n",
       "      <td>4.35</td>\n",
       "      <td>2.75</td>\n",
       "    </tr>\n",
       "  </tbody>\n",
       "</table>\n",
       "</div>"
      ],
      "text/plain": [
       "   carat      cut color clarity  depth  table  price     x     y     z\n",
       "1   0.23    Ideal     E     SI2   61.5   55.0    326  3.95  3.98  2.43\n",
       "2   0.21  Premium     E     SI1   59.8   61.0    326  3.89  3.84  2.31\n",
       "3   0.23     Good     E     VS1   56.9   65.0    327  4.05  4.07  2.31\n",
       "4   0.29  Premium     I     VS2   62.4   58.0    334  4.20  4.23  2.63\n",
       "5   0.31     Good     J     SI2   63.3   58.0    335  4.34  4.35  2.75"
      ]
     },
     "execution_count": 32,
     "metadata": {},
     "output_type": "execute_result"
    }
   ],
   "source": [
    "data=pd.read_csv(\"diamonds.csv\", index_col=0)\n",
    "print (data.shape)\n",
    "data.head()"
   ]
  },
  {
   "cell_type": "code",
   "execution_count": 33,
   "metadata": {
    "collapsed": true
   },
   "outputs": [],
   "source": [
    "data=pd.get_dummies(data, columns=['cut', 'color','clarity'], drop_first=True)"
   ]
  },
  {
   "cell_type": "code",
   "execution_count": 34,
   "metadata": {},
   "outputs": [],
   "source": [
    "def learn(data, datapoints):\n",
    "    print(\"learning from %s datapoints\" % datapoints)\n",
    "    cols = [col for col in data.columns if col != 'price']\n",
    "    X_train_orig, X_test_orig, y_train_orig, y_test_orig = train_test_split( data[cols], data[\"price\"], test_size=20000, random_state=100)\n",
    "\n",
    "    out_errors=[]\n",
    "    in_errors=[]\n",
    "    for  i in range(100):\n",
    "        training_indexes=random.sample(range(len(X_train_orig)), k=datapoints )\n",
    "\n",
    "        X_train=X_train_orig.iloc[training_indexes]\n",
    "        y_train=y_train_orig.iloc[training_indexes]\n",
    "\n",
    "        model = LinearRegression()\n",
    "        model.fit(X_train, y_train)\n",
    "\n",
    "        train_pred = model.predict(X_train)\n",
    "        test_pred = model.predict(X_test_orig)\n",
    "\n",
    "        out_errors.append( mean_squared_error(y_test_orig,test_pred))\n",
    "        in_errors.append(mean_squared_error(y_train,train_pred))\n",
    "    \n",
    "    return (sum(in_errors)/len(in_errors))**0.5, (sum(out_errors)/len(out_errors))**0.5\n"
   ]
  },
  {
   "cell_type": "code",
   "execution_count": 35,
   "metadata": {},
   "outputs": [
    {
     "name": "stdout",
     "output_type": "stream",
     "text": [
      "learning from 500 datapoints\n",
      "learning from 1000 datapoints\n",
      "learning from 1500 datapoints\n",
      "learning from 2000 datapoints\n",
      "learning from 2500 datapoints\n",
      "learning from 3000 datapoints\n",
      "learning from 3500 datapoints\n",
      "learning from 4000 datapoints\n",
      "learning from 4500 datapoints\n",
      "learning from 5000 datapoints\n",
      "learning from 5500 datapoints\n",
      "learning from 6000 datapoints\n",
      "learning from 6500 datapoints\n",
      "learning from 7000 datapoints\n",
      "learning from 7500 datapoints\n",
      "learning from 8000 datapoints\n",
      "learning from 8500 datapoints\n",
      "learning from 9000 datapoints\n",
      "learning from 9500 datapoints\n",
      "learning from 10000 datapoints\n",
      "learning from 10500 datapoints\n",
      "learning from 11000 datapoints\n",
      "learning from 11500 datapoints\n"
     ]
    }
   ],
   "source": [
    "\n",
    "measurements= pd.DataFrame()\n",
    "for datapoints in range(500,12000,500):\n",
    "    \n",
    "    ise, ose =learn(data, datapoints)\n",
    "    values=pd.DataFrame([{'observations':datapoints, 'in_sample_error':ise, 'out_sample_error':ose}])\n",
    "   \n",
    "    measurements= measurements.append(values,ignore_index=True)"
   ]
  },
  {
   "cell_type": "markdown",
   "metadata": {},
   "source": [
    "For the sake of tidiness, I've re-sampled the data 100 times  and stored the average error for those models.  \n",
    "Lots of work, but the results are great:"
   ]
  },
  {
   "cell_type": "code",
   "execution_count": 36,
   "metadata": {},
   "outputs": [
    {
     "data": {
      "image/png": "[encoded data removed]",
      "text/plain": [
       "<matplotlib.figure.Figure at 0x7fa667743668>"
      ]
     },
     "metadata": {},
     "output_type": "display_data"
    }
   ],
   "source": [
    "plt.scatter( measurements['observations'],measurements['in_sample_error'], color=\"cyan\")\n",
    "plt.scatter( measurements['observations'],measurements['out_sample_error'], color=\"blue\")\n",
    "plt.legend()\n",
    "plt.show()"
   ]
  },
  {
   "cell_type": "code",
   "execution_count": null,
   "metadata": {
    "collapsed": true
   },
   "outputs": [],
   "source": []
  },
  {
   "cell_type": "code",
   "execution_count": null,
   "metadata": {
    "collapsed": true
   },
   "outputs": [],
   "source": []
  }
 ],
 "metadata": {
  "kernelspec": {
   "display_name": "Python 3",
   "language": "python",
   "name": "python3"
  },
  "language_info": {
   "codemirror_mode": {
    "name": "ipython",
    "version": 3
   },
   "file_extension": ".py",
   "mimetype": "text/x-python",
   "name": "python",
   "nbconvert_exporter": "python",
   "pygments_lexer": "ipython3",
   "version": "3.6.1"
  }
 },
 "nbformat": 4,
 "nbformat_minor": 2
}
